{
 "cells": [
  {
   "cell_type": "markdown",
   "metadata": {},
   "source": [
    "# Importing Libraries"
   ]
  },
  {
   "cell_type": "code",
   "execution_count": 164,
   "metadata": {
    "ExecuteTime": {
     "end_time": "2021-06-01T21:13:08.148567Z",
     "start_time": "2021-06-01T21:13:07.919527Z"
    }
   },
   "outputs": [],
   "source": [
    "import pandas as pd\n",
    "import numpy as np\n",
    "import ast\n",
    "from sklearn.naive_bayes import MultinomialNB\n",
    "from sklearn.tree import DecisionTreeClassifier\n",
    "from sklearn.metrics import classification_report\n",
    "from sklearn.multiclass import OneVsRestClassifier\n",
    "from sklearn.linear_model import LogisticRegression\n",
    "from sklearn.multiclass import OneVsOneClassifier\n",
    "from sklearn.ensemble import RandomForestClassifier\n",
    "\n",
    "import sklearn.utils as sk_util\n",
    "from sklearn.preprocessing import MultiLabelBinarizer\n",
    "from sklearn.model_selection import train_test_split\n",
    "\n",
    "import tensorflow_hub as hub\n",
    "from sklearn.decomposition import PCA\n",
    "from sklearn.feature_extraction.text import TfidfVectorizer\n",
    "from sklearn.feature_extraction.text import CountVectorizer\n",
    "\n",
    "import xgboost as xgb\n",
    "from xgboost import XGBClassifier\n",
    "\n",
    "import lightgbm as lgbm\n",
    "from lightgbm import LGBMClassifier, LGBMRegressor\n",
    "\n",
    "from sklearn.metrics import f1_score\n",
    "\n",
    "\n",
    "import torch\n",
    "from tqdm.notebook import tqdm\n",
    "\n",
    "from transformers import BertTokenizer\n",
    "from torch.utils.data import TensorDataset\n",
    "\n",
    "from transformers import BertForSequenceClassification\n",
    "from sklearn.naive_bayes import MultinomialNB\n",
    "\n",
    "from keras.preprocessing import text, sequence\n",
    "from keras import layers, models, optimizers\n",
    "from sklearn.metrics import classification_report\n",
    "import string\n",
    "import textblob\n",
    "import pickle\n",
    "from sklearn.metrics import confusion_matrix\n",
    "from sklearn.metrics import plot_confusion_matrix\n",
    "import lightgbm as lgb\n",
    "\n",
    "from sklearn.neural_network import MLPClassifier\n",
    "from sklearn.svm import LinearSVC\n",
    "from sklearn import linear_model\n",
    "\n",
    "import seaborn as sn\n",
    "import matplotlib.pyplot as plt"
   ]
  },
  {
   "cell_type": "markdown",
   "metadata": {},
   "source": [
    "# Importing the Dataset"
   ]
  },
  {
   "cell_type": "markdown",
   "metadata": {},
   "source": [
    "## Reading the Data"
   ]
  },
  {
   "cell_type": "code",
   "execution_count": 2,
   "metadata": {
    "ExecuteTime": {
     "end_time": "2021-06-01T15:27:02.290833Z",
     "start_time": "2021-06-01T15:27:01.955726Z"
    }
   },
   "outputs": [],
   "source": [
    "data_train = pd.read_csv('hm_train.csv')\n",
    "data_test = pd.read_csv('hm_test.csv')"
   ]
  },
  {
   "cell_type": "code",
   "execution_count": 3,
   "metadata": {
    "ExecuteTime": {
     "end_time": "2021-06-01T15:27:02.677803Z",
     "start_time": "2021-06-01T15:27:02.645889Z"
    }
   },
   "outputs": [
    {
     "data": {
      "text/plain": [
       "affection           20880\n",
       "achievement         20274\n",
       "bonding              6561\n",
       "enjoy_the_moment     6508\n",
       "leisure              4242\n",
       "nature               1127\n",
       "exercise              729\n",
       "Name: predicted_category, dtype: int64"
      ]
     },
     "execution_count": 3,
     "metadata": {},
     "output_type": "execute_result"
    }
   ],
   "source": [
    "data_train['predicted_category'].value_counts()"
   ]
  },
  {
   "cell_type": "markdown",
   "metadata": {},
   "source": [
    "## Data Split into Train & Validation"
   ]
  },
  {
   "cell_type": "code",
   "execution_count": 4,
   "metadata": {
    "ExecuteTime": {
     "end_time": "2021-06-01T15:27:04.873602Z",
     "start_time": "2021-06-01T15:27:04.851143Z"
    }
   },
   "outputs": [],
   "source": [
    "x_train, x_val, y_train, y_val = train_test_split(data_train, data_train['predicted_category'],\n",
    "                                                    random_state= 123, test_size = 0.2)"
   ]
  },
  {
   "cell_type": "code",
   "execution_count": 5,
   "metadata": {
    "ExecuteTime": {
     "end_time": "2021-06-01T15:27:05.352693Z",
     "start_time": "2021-06-01T15:27:05.346728Z"
    }
   },
   "outputs": [],
   "source": [
    "x_test = data_test.copy()"
   ]
  },
  {
   "cell_type": "markdown",
   "metadata": {},
   "source": [
    "# Feature Engineering"
   ]
  },
  {
   "cell_type": "markdown",
   "metadata": {},
   "source": [
    "## Feature Encoding"
   ]
  },
  {
   "cell_type": "code",
   "execution_count": 7,
   "metadata": {
    "ExecuteTime": {
     "end_time": "2021-06-01T15:27:15.107417Z",
     "start_time": "2021-06-01T15:27:14.946818Z"
    }
   },
   "outputs": [
    {
     "name": "stderr",
     "output_type": "stream",
     "text": [
      "C:\\Users\\mv15445\\AppData\\Local\\Continuum\\anaconda3\\lib\\site-packages\\ipykernel_launcher.py:2: SettingWithCopyWarning: \n",
      "A value is trying to be set on a copy of a slice from a DataFrame.\n",
      "Try using .loc[row_indexer,col_indexer] = value instead\n",
      "\n",
      "See the caveats in the documentation: https://pandas.pydata.org/pandas-docs/stable/user_guide/indexing.html#returning-a-view-versus-a-copy\n",
      "  \n",
      "C:\\Users\\mv15445\\AppData\\Local\\Continuum\\anaconda3\\lib\\site-packages\\ipykernel_launcher.py:3: SettingWithCopyWarning: \n",
      "A value is trying to be set on a copy of a slice from a DataFrame.\n",
      "Try using .loc[row_indexer,col_indexer] = value instead\n",
      "\n",
      "See the caveats in the documentation: https://pandas.pydata.org/pandas-docs/stable/user_guide/indexing.html#returning-a-view-versus-a-copy\n",
      "  This is separate from the ipykernel package so we can avoid doing imports until\n"
     ]
    }
   ],
   "source": [
    "x_train['reflection_period_updt'] = x_train['reflection_period'].apply(lambda x: 1 if x =='24h' else 0)\n",
    "x_val['reflection_period_updt'] = x_val['reflection_period'].apply(lambda x: 1 if x =='24h' else 0)\n",
    "x_test['reflection_period_updt'] = x_test['reflection_period'].apply(lambda x: 1 if x =='24h' else 0)"
   ]
  },
  {
   "cell_type": "markdown",
   "metadata": {},
   "source": [
    "## Count Vectorizer"
   ]
  },
  {
   "cell_type": "code",
   "execution_count": 9,
   "metadata": {
    "ExecuteTime": {
     "end_time": "2021-06-01T15:27:49.680639Z",
     "start_time": "2021-06-01T15:27:48.611444Z"
    }
   },
   "outputs": [
    {
     "data": {
      "text/plain": [
       "CountVectorizer(max_df=0.9, min_df=5, stop_words='english',\n",
       "                token_pattern='\\\\w{1,}')"
      ]
     },
     "execution_count": 9,
     "metadata": {},
     "output_type": "execute_result"
    }
   ],
   "source": [
    "count_vect = CountVectorizer(analyzer='word', token_pattern=r'\\w{1,}', stop_words = 'english', \n",
    "                             min_df = 5, max_df = 0.9, ngram_range = (1,1))\n",
    "count_vect.fit(x_train_full['cleaned_hm'].str.lower())"
   ]
  },
  {
   "cell_type": "code",
   "execution_count": 10,
   "metadata": {
    "ExecuteTime": {
     "end_time": "2021-06-01T15:27:59.462213Z",
     "start_time": "2021-06-01T15:27:55.375842Z"
    }
   },
   "outputs": [],
   "source": [
    "xtrain_count =  pd.DataFrame(count_vect.transform(x_train['cleaned_hm'].str.lower()).toarray())\n",
    "xvalid_count =  pd.DataFrame(count_vect.transform(x_val['cleaned_hm'].str.lower()).toarray())\n",
    "xtest_count =  pd.DataFrame(count_vect.transform(data_test['cleaned_hm'].str.lower()).toarray())"
   ]
  },
  {
   "cell_type": "code",
   "execution_count": 11,
   "metadata": {
    "ExecuteTime": {
     "end_time": "2021-06-01T15:28:03.958916Z",
     "start_time": "2021-06-01T15:28:03.940917Z"
    }
   },
   "outputs": [],
   "source": [
    "xtrain_count['reflection_period_updt'] =  x_train['reflection_period_updt'].values\n",
    "xtrain_count['num_sentence'] =  x_train['num_sentence'].values\n",
    "\n",
    "xvalid_count['reflection_period_updt'] =  x_val['reflection_period_updt'].values\n",
    "xvalid_count['num_sentence'] =  x_val['num_sentence'].values\n",
    "\n",
    "xtest_count['reflection_period_updt'] =  x_test['reflection_period_updt'].values\n",
    "xtest_count['num_sentence'] =  x_test['num_sentence'].values"
   ]
  },
  {
   "cell_type": "markdown",
   "metadata": {},
   "source": [
    "## TF-IDF Vectorizer"
   ]
  },
  {
   "cell_type": "code",
   "execution_count": 13,
   "metadata": {
    "ExecuteTime": {
     "end_time": "2021-06-01T15:28:30.283702Z",
     "start_time": "2021-06-01T15:28:29.187035Z"
    }
   },
   "outputs": [
    {
     "data": {
      "text/plain": [
       "TfidfVectorizer(min_df=3, stop_words='english')"
      ]
     },
     "execution_count": 13,
     "metadata": {},
     "output_type": "execute_result"
    }
   ],
   "source": [
    "tf_idf_vec = TfidfVectorizer(analyzer= 'word', stop_words = 'english', ngram_range = (1,1), min_df = 3)\n",
    "tf_idf_vec.fit(x_train_full['cleaned_hm'].str.lower())"
   ]
  },
  {
   "cell_type": "code",
   "execution_count": 14,
   "metadata": {
    "ExecuteTime": {
     "end_time": "2021-06-01T15:28:38.904552Z",
     "start_time": "2021-06-01T15:28:33.900685Z"
    }
   },
   "outputs": [],
   "source": [
    "xtrain_tf_idf =  pd.DataFrame(tf_idf_vec.transform(x_train['cleaned_hm'].str.lower()).toarray())\n",
    "xvalid_tf_idf =  pd.DataFrame(tf_idf_vec.transform(x_val['cleaned_hm'].str.lower()).toarray())\n",
    "xtest_tf_idf =  pd.DataFrame(tf_idf_vec.transform(x_test['cleaned_hm'].str.lower()).toarray())"
   ]
  },
  {
   "cell_type": "code",
   "execution_count": 15,
   "metadata": {
    "ExecuteTime": {
     "end_time": "2021-06-01T15:28:48.215478Z",
     "start_time": "2021-06-01T15:28:48.196524Z"
    }
   },
   "outputs": [],
   "source": [
    "xtrain_tf_idf['reflection_period_updt'] =  x_train['reflection_period_updt'].values\n",
    "xtrain_tf_idf['num_sentence'] =  x_train['num_sentence'].values\n",
    "\n",
    "xvalid_tf_idf['reflection_period_updt'] =  x_val['reflection_period_updt'].values\n",
    "xvalid_tf_idf['num_sentence'] =  x_val['num_sentence'].values\n",
    "\n",
    "xtest_tf_idf['reflection_period_updt'] =  x_test['reflection_period_updt'].values\n",
    "xtest_tf_idf['num_sentence'] =  x_test['num_sentence'].values"
   ]
  },
  {
   "cell_type": "markdown",
   "metadata": {},
   "source": [
    "## Universal Sentence Encoders"
   ]
  },
  {
   "cell_type": "code",
   "execution_count": 16,
   "metadata": {
    "ExecuteTime": {
     "end_time": "2021-06-01T15:29:15.942200Z",
     "start_time": "2021-06-01T15:29:00.891183Z"
    }
   },
   "outputs": [
    {
     "name": "stderr",
     "output_type": "stream",
     "text": [
      "INFO:absl:Using C:\\Users\\mv15445\\AppData\\Local\\Temp\\tfhub_modules to cache modules.\n"
     ]
    }
   ],
   "source": [
    "embed = hub.load(\"https://tfhub.dev/google/universal-sentence-encoder/4\")"
   ]
  },
  {
   "cell_type": "code",
   "execution_count": 19,
   "metadata": {
    "ExecuteTime": {
     "end_time": "2021-06-01T15:34:38.937382Z",
     "start_time": "2021-06-01T15:32:43.633750Z"
    }
   },
   "outputs": [],
   "source": [
    "xtrain_use = embed(x_train['cleaned_hm'].str.lower()).numpy()\n",
    "xtrain_use = pd.DataFrame(data = xtrain_use, columns = [ 'USE_col_'+ str(ele) for ele in np.arange(1,512+1)])\n",
    "\n",
    "xvalid_use = embed(x_val['cleaned_hm'].str.lower()).numpy()\n",
    "xvalid_use = pd.DataFrame(data = xvalid_use, columns = [ 'USE_col_'+ str(ele) for ele in np.arange(1,512+1)])\n",
    "\n",
    "xtest_use = embed(x_test['cleaned_hm'].str.lower()).numpy()\n",
    "xtest_use = pd.DataFrame(data = xtest_use, columns = [ 'USE_col_'+ str(ele) for ele in np.arange(1,512+1)])"
   ]
  },
  {
   "cell_type": "markdown",
   "metadata": {},
   "source": [
    "## Other Features"
   ]
  },
  {
   "cell_type": "markdown",
   "metadata": {},
   "source": [
    "### Char & Word Count"
   ]
  },
  {
   "cell_type": "code",
   "execution_count": 20,
   "metadata": {
    "ExecuteTime": {
     "end_time": "2021-06-01T15:35:12.532665Z",
     "start_time": "2021-06-01T15:35:11.347617Z"
    }
   },
   "outputs": [],
   "source": [
    "xtrain_word_attr = pd.DataFrame()\n",
    "xtrain_word_attr['char_count'] = x_train['cleaned_hm'].apply(len)\n",
    "xtrain_word_attr['word_count'] = x_train['cleaned_hm'].apply(lambda x: len(x.split()))\n",
    "xtrain_word_attr['word_density'] = xtrain_word_attr['char_count'] / (xtrain_word_attr['word_count']+1)\n",
    "xtrain_word_attr['punctuation_count'] = x_train['cleaned_hm'].apply(lambda x: len(\"\".join(_ for _ in x if _ in string.punctuation))) \n",
    "xtrain_word_attr['title_word_count'] = x_train['cleaned_hm'].apply(lambda x: len([wrd for wrd in x.split() if wrd.istitle()]))\n",
    "xtrain_word_attr['upper_case_word_count'] = x_train['cleaned_hm'].apply(lambda x: len([wrd for wrd in x.split() if wrd.isupper()]))\n",
    "xtrain_word_attr.reset_index(drop=True, inplace=True)"
   ]
  },
  {
   "cell_type": "code",
   "execution_count": 21,
   "metadata": {
    "ExecuteTime": {
     "end_time": "2021-06-01T15:35:21.988771Z",
     "start_time": "2021-06-01T15:35:21.750082Z"
    }
   },
   "outputs": [],
   "source": [
    "xvalid_word_attr = pd.DataFrame()\n",
    "xvalid_word_attr['char_count'] = x_val['cleaned_hm'].apply(len)\n",
    "xvalid_word_attr['word_count'] = x_val['cleaned_hm'].apply(lambda x: len(x.split()))\n",
    "xvalid_word_attr['word_density'] = xvalid_word_attr['char_count'] / (xvalid_word_attr['word_count']+1)\n",
    "xvalid_word_attr['punctuation_count'] = x_val['cleaned_hm'].apply(lambda x: len(\"\".join(_ for _ in x if _ in string.punctuation))) \n",
    "xvalid_word_attr['title_word_count'] = x_val['cleaned_hm'].apply(lambda x: len([wrd for wrd in x.split() if wrd.istitle()]))\n",
    "xvalid_word_attr['upper_case_word_count'] = x_val['cleaned_hm'].apply(lambda x: len([wrd for wrd in x.split() if wrd.isupper()]))\n",
    "xvalid_word_attr.reset_index(drop=True, inplace=True)"
   ]
  },
  {
   "cell_type": "code",
   "execution_count": 22,
   "metadata": {
    "ExecuteTime": {
     "end_time": "2021-06-01T15:35:31.362854Z",
     "start_time": "2021-06-01T15:35:30.522669Z"
    }
   },
   "outputs": [],
   "source": [
    "xtest_word_attr = pd.DataFrame()\n",
    "xtest_word_attr['char_count'] = x_test['cleaned_hm'].apply(len)\n",
    "xtest_word_attr['word_count'] = x_test['cleaned_hm'].apply(lambda x: len(x.split()))\n",
    "xtest_word_attr['word_density'] = xtest_word_attr['char_count'] / (xtest_word_attr['word_count']+1)\n",
    "xtest_word_attr['punctuation_count'] = x_test['cleaned_hm'].apply(lambda x: len(\"\".join(_ for _ in x if _ in string.punctuation))) \n",
    "xtest_word_attr['title_word_count'] = x_test['cleaned_hm'].apply(lambda x: len([wrd for wrd in x.split() if wrd.istitle()]))\n",
    "xtest_word_attr['upper_case_word_count'] = x_test['cleaned_hm'].apply(lambda x: len([wrd for wrd in x.split() if wrd.isupper()]))\n",
    "xtest_word_attr.reset_index(drop=True, inplace=True)"
   ]
  },
  {
   "cell_type": "markdown",
   "metadata": {},
   "source": [
    "### POS Tags"
   ]
  },
  {
   "cell_type": "code",
   "execution_count": 23,
   "metadata": {
    "ExecuteTime": {
     "end_time": "2021-06-01T15:35:39.948308Z",
     "start_time": "2021-06-01T15:35:39.942324Z"
    }
   },
   "outputs": [],
   "source": [
    "pos_family = {\n",
    "    'noun' : ['NN','NNS','NNP','NNPS'],\n",
    "    'pron' : ['PRP','PRP$','WP','WP$'],\n",
    "    'verb' : ['VB','VBD','VBG','VBN','VBP','VBZ'],\n",
    "    'adj' :  ['JJ','JJR','JJS'],\n",
    "    'adv' : ['RB','RBR','RBS','WRB']\n",
    "}\n",
    "\n",
    "def check_pos_tag(x, flag):\n",
    "    cnt = 0\n",
    "    try:\n",
    "        wiki = textblob.TextBlob(x)\n",
    "        for tup in wiki.tags:\n",
    "            ppo = list(tup)[1]\n",
    "            if ppo in pos_family[flag]:\n",
    "                cnt += 1\n",
    "    except:\n",
    "        pass\n",
    "    return cnt"
   ]
  },
  {
   "cell_type": "code",
   "execution_count": 161,
   "metadata": {
    "ExecuteTime": {
     "end_time": "2021-06-01T21:02:54.404071Z",
     "start_time": "2021-06-01T20:53:50.907671Z"
    }
   },
   "outputs": [],
   "source": [
    "xtrain_word_attr2 = pd.DataFrame()\n",
    "xtrain_word_attr2['noun_count'] = x_train['cleaned_hm'].apply(lambda x: check_pos_tag(x, 'noun'))\n",
    "xtrain_word_attr2['verb_count'] = x_train['cleaned_hm'].apply(lambda x: check_pos_tag(x, 'verb'))\n",
    "xtrain_word_attr2['adj_count'] = x_train['cleaned_hm'].apply(lambda x: check_pos_tag(x, 'adj'))\n",
    "xtrain_word_attr2['adv_count'] = x_train['cleaned_hm'].apply(lambda x: check_pos_tag(x, 'adv'))\n",
    "xtrain_word_attr2['pron_count'] = x_train['cleaned_hm'].apply(lambda x: check_pos_tag(x, 'pron'))\n",
    "xtrain_word_attr2.reset_index(drop=True, inplace=True)"
   ]
  },
  {
   "cell_type": "code",
   "execution_count": 162,
   "metadata": {
    "ExecuteTime": {
     "end_time": "2021-06-01T21:05:17.366515Z",
     "start_time": "2021-06-01T21:03:02.083797Z"
    }
   },
   "outputs": [],
   "source": [
    "xvalid_word_attr2 = pd.DataFrame()\n",
    "xvalid_word_attr2['noun_count'] = x_val['cleaned_hm'].apply(lambda x: check_pos_tag(x, 'noun'))\n",
    "xvalid_word_attr2['verb_count'] = x_val['cleaned_hm'].apply(lambda x: check_pos_tag(x, 'verb'))\n",
    "xvalid_word_attr2['adj_count'] = x_val['cleaned_hm'].apply(lambda x: check_pos_tag(x, 'adj'))\n",
    "xvalid_word_attr2['adv_count'] = x_val['cleaned_hm'].apply(lambda x: check_pos_tag(x, 'adv'))\n",
    "xvalid_word_attr2['pron_count'] = x_val['cleaned_hm'].apply(lambda x: check_pos_tag(x, 'pron'))\n",
    "xvalid_word_attr2.reset_index(drop=True, inplace=True)"
   ]
  },
  {
   "cell_type": "code",
   "execution_count": 163,
   "metadata": {
    "ExecuteTime": {
     "end_time": "2021-06-01T21:12:42.187136Z",
     "start_time": "2021-06-01T21:05:25.659450Z"
    }
   },
   "outputs": [],
   "source": [
    "xtest_word_attr2 = pd.DataFrame()\n",
    "xtest_word_attr2['noun_count'] = x_test['cleaned_hm'].apply(lambda x: check_pos_tag(x, 'noun'))\n",
    "xtest_word_attr2['verb_count'] = x_test['cleaned_hm'].apply(lambda x: check_pos_tag(x, 'verb'))\n",
    "xtest_word_attr2['adj_count'] = x_test['cleaned_hm'].apply(lambda x: check_pos_tag(x, 'adj'))\n",
    "xtest_word_attr2['adv_count'] = x_test['cleaned_hm'].apply(lambda x: check_pos_tag(x, 'adv'))\n",
    "xtest_word_attr2['pron_count'] = x_test['cleaned_hm'].apply(lambda x: check_pos_tag(x, 'pron'))\n",
    "xtest_word_attr2.reset_index(drop=True, inplace=True)"
   ]
  },
  {
   "cell_type": "markdown",
   "metadata": {},
   "source": [
    "# Model Training"
   ]
  },
  {
   "cell_type": "code",
   "execution_count": 24,
   "metadata": {
    "ExecuteTime": {
     "end_time": "2021-06-01T15:35:51.930791Z",
     "start_time": "2021-06-01T15:35:51.916730Z"
    }
   },
   "outputs": [],
   "source": [
    "results = pd.DataFrame(columns = ['Model', 'Type', 'Train F1 Score', 'Validation F1 Score'])"
   ]
  },
  {
   "cell_type": "code",
   "execution_count": 25,
   "metadata": {
    "ExecuteTime": {
     "end_time": "2021-06-01T15:36:00.391909Z",
     "start_time": "2021-06-01T15:36:00.385891Z"
    }
   },
   "outputs": [],
   "source": [
    "def func_model_train(model_name, feature, model, input_x, input_y, validation_x, validation_y, results):\n",
    "    print(\"Model Training Started\")\n",
    "    model.fit(input_x, input_y)\n",
    "    print(\"Model Training Completed\")\n",
    "    \n",
    "    print(\"Model Scoring Started\")\n",
    "    y_pred_train = model.predict(input_x)\n",
    "    y_pred_val = model.predict(validation_x)\n",
    "    \n",
    "    train_f1 = f1_score(input_y, y_pred_train, average='weighted')\n",
    "    valid_f1 = f1_score(validation_y, y_pred_val, average='weighted')\n",
    "    \n",
    "    results = results.append(pd.Series([model_name, feature, train_f1, valid_f1], index= results.columns), ignore_index=True)  \n",
    "\n",
    "#     results = results.append({'Model': model_name, 'Type': feature, 'Train F1 Score': train_f1, 'Validation F1 Score':valid_f1}, \n",
    "#                    ignore_index = True)\n",
    "    \n",
    "    print(\"Model Scoring Completed\")\n",
    "    \n",
    "    print(\"Train F1 Score: \", train_f1)\n",
    "    print(\"Validation F1 Score: \", valid_f1)\n",
    "    \n",
    "    return results"
   ]
  },
  {
   "cell_type": "markdown",
   "metadata": {},
   "source": [
    "## Light GBM Classifier"
   ]
  },
  {
   "cell_type": "markdown",
   "metadata": {},
   "source": [
    "### Tf-iDF Vectorizer"
   ]
  },
  {
   "cell_type": "code",
   "execution_count": 26,
   "metadata": {
    "ExecuteTime": {
     "end_time": "2021-06-01T15:37:46.515897Z",
     "start_time": "2021-06-01T15:36:20.039957Z"
    }
   },
   "outputs": [
    {
     "name": "stdout",
     "output_type": "stream",
     "text": [
      "Model Training Started\n",
      "Model Training Completed\n",
      "Model Scoring Started\n",
      "Model Scoring Completed\n",
      "Train F1 Score:  0.9607474407484293\n",
      "Validation F1 Score:  0.8770464012699706\n"
     ]
    }
   ],
   "source": [
    "model = lgb.LGBMClassifier(class_weight='balanced', learning_rate = 0.5, colsample_bytree = 0.5, drop_rate=0.8, \n",
    "                           num_class = 7, objective = 'multiclass', metric = 'multi_logloss')\n",
    "\n",
    "results = func_model_train('LightGBM', 'TF-IDF', model, xtrain_tf_idf, y_train, xvalid_tf_idf, y_val, results)"
   ]
  },
  {
   "cell_type": "markdown",
   "metadata": {},
   "source": [
    "### Count Vectorizer"
   ]
  },
  {
   "cell_type": "code",
   "execution_count": 27,
   "metadata": {
    "ExecuteTime": {
     "end_time": "2021-06-01T15:38:57.828272Z",
     "start_time": "2021-06-01T15:38:09.053305Z"
    }
   },
   "outputs": [
    {
     "name": "stdout",
     "output_type": "stream",
     "text": [
      "Model Training Started\n",
      "Model Training Completed\n",
      "Model Scoring Started\n",
      "Model Scoring Completed\n",
      "Train F1 Score:  0.9382195297433588\n",
      "Validation F1 Score:  0.8765049479795172\n"
     ]
    }
   ],
   "source": [
    "model = lgb.LGBMClassifier(class_weight='balanced', learning_rate = 0.5, colsample_bytree = 0.5, drop_rate=0.8, \n",
    "                           num_class = 7, objective = 'multiclass', metric = 'multi_logloss')\n",
    "\n",
    "results = func_model_train('LightGBM', 'Count Vectorizer', model, xtrain_count, y_train, xvalid_count, y_val, results)"
   ]
  },
  {
   "cell_type": "markdown",
   "metadata": {},
   "source": [
    "### Universal Sentence Encoder"
   ]
  },
  {
   "cell_type": "code",
   "execution_count": 28,
   "metadata": {
    "ExecuteTime": {
     "end_time": "2021-06-01T15:39:52.293625Z",
     "start_time": "2021-06-01T15:39:05.999864Z"
    }
   },
   "outputs": [
    {
     "name": "stdout",
     "output_type": "stream",
     "text": [
      "Model Training Started\n",
      "Model Training Completed\n",
      "Model Scoring Started\n",
      "Model Scoring Completed\n",
      "Train F1 Score:  0.999896397389126\n",
      "Validation F1 Score:  0.8530666266200267\n"
     ]
    }
   ],
   "source": [
    "model = lgb.LGBMClassifier(class_weight='balanced', learning_rate = 0.5, colsample_bytree = 0.5, drop_rate=0.8, \n",
    "                           num_class = 7, objective = 'multiclass', metric = 'multi_logloss')\n",
    "\n",
    "results = func_model_train('LightGBM', 'USE', model, xtrain_use, y_train, xvalid_use, y_val, results)"
   ]
  },
  {
   "cell_type": "markdown",
   "metadata": {},
   "source": [
    "### USE + TF-IDF"
   ]
  },
  {
   "cell_type": "code",
   "execution_count": 29,
   "metadata": {
    "ExecuteTime": {
     "end_time": "2021-06-01T15:43:23.383270Z",
     "start_time": "2021-06-01T15:41:31.780792Z"
    }
   },
   "outputs": [
    {
     "name": "stdout",
     "output_type": "stream",
     "text": [
      "Model Training Started\n",
      "Model Training Completed\n",
      "Model Scoring Started\n",
      "Model Scoring Completed\n",
      "Train F1 Score:  0.9999585570703247\n",
      "Validation F1 Score:  0.8728764197768201\n"
     ]
    }
   ],
   "source": [
    "model = lgb.LGBMClassifier(class_weight='balanced', learning_rate = 0.5, colsample_bytree = 0.5, drop_rate=0.8, \n",
    "                           num_class = 7, objective = 'multiclass', metric = 'multi_logloss')\n",
    "\n",
    "results = func_model_train('LightGBM', 'USE + TF-IDF', model, pd.concat([xtrain_use, xtrain_tf_idf], axis = 1), y_train, \n",
    "                           pd.concat([xvalid_use, xvalid_tf_idf], axis = 1), y_val, results)"
   ]
  },
  {
   "cell_type": "markdown",
   "metadata": {},
   "source": [
    "### USE + Count Vectorizer"
   ]
  },
  {
   "cell_type": "code",
   "execution_count": 30,
   "metadata": {
    "ExecuteTime": {
     "end_time": "2021-06-01T15:44:59.545130Z",
     "start_time": "2021-06-01T15:43:31.602494Z"
    }
   },
   "outputs": [
    {
     "name": "stdout",
     "output_type": "stream",
     "text": [
      "Model Training Started\n",
      "Model Training Completed\n",
      "Model Scoring Started\n",
      "Model Scoring Completed\n",
      "Train F1 Score:  0.9999792778618507\n",
      "Validation F1 Score:  0.8724972858741135\n"
     ]
    }
   ],
   "source": [
    "model = lgb.LGBMClassifier(class_weight='balanced', learning_rate = 0.5, colsample_bytree = 0.5, drop_rate=0.8, \n",
    "                           num_class = 7, objective = 'multiclass', metric = 'multi_logloss')\n",
    "\n",
    "results = func_model_train('LightGBM', 'USE + Count', model, pd.concat([xtrain_use, xtrain_count], axis = 1), y_train, \n",
    "                           pd.concat([xvalid_use, xvalid_count], axis = 1), y_val, results)"
   ]
  },
  {
   "cell_type": "markdown",
   "metadata": {},
   "source": [
    "## Linear SVC"
   ]
  },
  {
   "cell_type": "markdown",
   "metadata": {},
   "source": [
    "### Tf-iDF Vectorizer"
   ]
  },
  {
   "cell_type": "code",
   "execution_count": 31,
   "metadata": {
    "ExecuteTime": {
     "end_time": "2021-06-01T15:45:49.047384Z",
     "start_time": "2021-06-01T15:45:09.859829Z"
    }
   },
   "outputs": [
    {
     "name": "stdout",
     "output_type": "stream",
     "text": [
      "Model Training Started\n"
     ]
    },
    {
     "name": "stderr",
     "output_type": "stream",
     "text": [
      "C:\\Users\\mv15445\\AppData\\Local\\Continuum\\anaconda3\\lib\\site-packages\\sklearn\\svm\\_base.py:986: ConvergenceWarning: Liblinear failed to converge, increase the number of iterations.\n",
      "  \"the number of iterations.\", ConvergenceWarning)\n"
     ]
    },
    {
     "name": "stdout",
     "output_type": "stream",
     "text": [
      "Model Training Completed\n",
      "Model Scoring Started\n",
      "Model Scoring Completed\n",
      "Train F1 Score:  0.9682157098729215\n",
      "Validation F1 Score:  0.8970146366603484\n"
     ]
    }
   ],
   "source": [
    "model = LinearSVC(random_state=0, tol=1e-5)\n",
    "results = func_model_train('LinearSVC', 'TF-IDF', model, xtrain_tf_idf, y_train, xvalid_tf_idf, y_val, results)"
   ]
  },
  {
   "cell_type": "markdown",
   "metadata": {},
   "source": [
    "### Count Vectorizer"
   ]
  },
  {
   "cell_type": "code",
   "execution_count": 32,
   "metadata": {
    "ExecuteTime": {
     "end_time": "2021-06-01T15:46:16.977618Z",
     "start_time": "2021-06-01T15:45:56.344860Z"
    }
   },
   "outputs": [
    {
     "name": "stdout",
     "output_type": "stream",
     "text": [
      "Model Training Started\n"
     ]
    },
    {
     "name": "stderr",
     "output_type": "stream",
     "text": [
      "C:\\Users\\mv15445\\AppData\\Local\\Continuum\\anaconda3\\lib\\site-packages\\sklearn\\svm\\_base.py:986: ConvergenceWarning: Liblinear failed to converge, increase the number of iterations.\n",
      "  \"the number of iterations.\", ConvergenceWarning)\n"
     ]
    },
    {
     "name": "stdout",
     "output_type": "stream",
     "text": [
      "Model Training Completed\n",
      "Model Scoring Started\n",
      "Model Scoring Completed\n",
      "Train F1 Score:  0.9738432511884667\n",
      "Validation F1 Score:  0.8938572994241286\n"
     ]
    }
   ],
   "source": [
    "model = LinearSVC(random_state=0, tol=1e-5)\n",
    "results = func_model_train('LinearSVC', 'Count Vectorizer', model, xtrain_count, y_train, xvalid_count, y_val, results)"
   ]
  },
  {
   "cell_type": "markdown",
   "metadata": {},
   "source": [
    "### Universal Sentence Encoder"
   ]
  },
  {
   "cell_type": "code",
   "execution_count": 33,
   "metadata": {
    "ExecuteTime": {
     "end_time": "2021-06-01T15:46:36.357133Z",
     "start_time": "2021-06-01T15:46:24.732163Z"
    }
   },
   "outputs": [
    {
     "name": "stdout",
     "output_type": "stream",
     "text": [
      "Model Training Started\n",
      "Model Training Completed\n",
      "Model Scoring Started\n",
      "Model Scoring Completed\n",
      "Train F1 Score:  0.8629654045927919\n",
      "Validation F1 Score:  0.848233879197663\n"
     ]
    }
   ],
   "source": [
    "model = LinearSVC(random_state=0, tol=1e-5)\n",
    "results = func_model_train('LinearSVC', 'USE', model, xtrain_use, y_train, xvalid_use, y_val, results)"
   ]
  },
  {
   "cell_type": "markdown",
   "metadata": {},
   "source": [
    "### USE + TF-IDF"
   ]
  },
  {
   "cell_type": "code",
   "execution_count": 34,
   "metadata": {
    "ExecuteTime": {
     "end_time": "2021-06-01T15:48:31.450650Z",
     "start_time": "2021-06-01T15:46:43.675966Z"
    }
   },
   "outputs": [
    {
     "name": "stdout",
     "output_type": "stream",
     "text": [
      "Model Training Started\n"
     ]
    },
    {
     "name": "stderr",
     "output_type": "stream",
     "text": [
      "C:\\Users\\mv15445\\AppData\\Local\\Continuum\\anaconda3\\lib\\site-packages\\sklearn\\svm\\_base.py:986: ConvergenceWarning: Liblinear failed to converge, increase the number of iterations.\n",
      "  \"the number of iterations.\", ConvergenceWarning)\n"
     ]
    },
    {
     "name": "stdout",
     "output_type": "stream",
     "text": [
      "Model Training Completed\n",
      "Model Scoring Started\n",
      "Model Scoring Completed\n",
      "Train F1 Score:  0.9792051807107466\n",
      "Validation F1 Score:  0.9084761857659611\n"
     ]
    }
   ],
   "source": [
    "model = LinearSVC(random_state=0, tol=1e-5)\n",
    "results = func_model_train('LinearSVC', 'USE + TF-IDF', model, pd.concat([xtrain_use, xtrain_tf_idf], axis = 1), y_train, \n",
    "                           pd.concat([xvalid_use, xvalid_tf_idf], axis = 1), y_val, results)"
   ]
  },
  {
   "cell_type": "markdown",
   "metadata": {},
   "source": [
    "### USE + Count Vectorizer"
   ]
  },
  {
   "cell_type": "code",
   "execution_count": 35,
   "metadata": {
    "ExecuteTime": {
     "end_time": "2021-06-01T15:49:52.734052Z",
     "start_time": "2021-06-01T15:48:39.321742Z"
    }
   },
   "outputs": [
    {
     "name": "stdout",
     "output_type": "stream",
     "text": [
      "Model Training Started\n"
     ]
    },
    {
     "name": "stderr",
     "output_type": "stream",
     "text": [
      "C:\\Users\\mv15445\\AppData\\Local\\Continuum\\anaconda3\\lib\\site-packages\\sklearn\\svm\\_base.py:986: ConvergenceWarning: Liblinear failed to converge, increase the number of iterations.\n",
      "  \"the number of iterations.\", ConvergenceWarning)\n"
     ]
    },
    {
     "name": "stdout",
     "output_type": "stream",
     "text": [
      "Model Training Completed\n",
      "Model Scoring Started\n",
      "Model Scoring Completed\n",
      "Train F1 Score:  0.9853456498338229\n",
      "Validation F1 Score:  0.9030041735579415\n"
     ]
    }
   ],
   "source": [
    "model = LinearSVC(random_state=0, tol=1e-5)\n",
    "results = func_model_train('LinearSVC', 'USE + Count', model, pd.concat([xtrain_use, xtrain_count], axis = 1), y_train, \n",
    "                           pd.concat([xvalid_use, xvalid_count], axis = 1), y_val, results)"
   ]
  },
  {
   "cell_type": "markdown",
   "metadata": {},
   "source": [
    "## Linear SGD"
   ]
  },
  {
   "cell_type": "markdown",
   "metadata": {},
   "source": [
    "### Tf-iDF Vectorizer"
   ]
  },
  {
   "cell_type": "code",
   "execution_count": 36,
   "metadata": {
    "ExecuteTime": {
     "end_time": "2021-06-01T15:51:53.498729Z",
     "start_time": "2021-06-01T15:50:23.306994Z"
    }
   },
   "outputs": [
    {
     "name": "stdout",
     "output_type": "stream",
     "text": [
      "Model Training Started\n",
      "Model Training Completed\n",
      "Model Scoring Started\n",
      "Model Scoring Completed\n",
      "Train F1 Score:  0.8950256009980248\n",
      "Validation F1 Score:  0.869892468010589\n"
     ]
    }
   ],
   "source": [
    "model = linear_model.SGDClassifier(max_iter=1000, tol=1e-3)\n",
    "results = func_model_train('LinearSGD', 'TF-IDF', model, xtrain_tf_idf, y_train, xvalid_tf_idf, y_val, results)"
   ]
  },
  {
   "cell_type": "markdown",
   "metadata": {},
   "source": [
    "### Count Vectorizer"
   ]
  },
  {
   "cell_type": "code",
   "execution_count": 37,
   "metadata": {
    "ExecuteTime": {
     "end_time": "2021-06-01T15:52:55.087019Z",
     "start_time": "2021-06-01T15:52:00.178112Z"
    }
   },
   "outputs": [
    {
     "name": "stdout",
     "output_type": "stream",
     "text": [
      "Model Training Started\n",
      "Model Training Completed\n",
      "Model Scoring Started\n",
      "Model Scoring Completed\n",
      "Train F1 Score:  0.9346337351925968\n",
      "Validation F1 Score:  0.8907756649783208\n"
     ]
    }
   ],
   "source": [
    "model = linear_model.SGDClassifier(max_iter=1000, tol=1e-3)\n",
    "results = func_model_train('LinearSGD', 'Count Vectorizer', model, xtrain_count, y_train, xvalid_count, y_val, results)"
   ]
  },
  {
   "cell_type": "markdown",
   "metadata": {},
   "source": [
    "### Universal Sentence Encoder"
   ]
  },
  {
   "cell_type": "code",
   "execution_count": 38,
   "metadata": {
    "ExecuteTime": {
     "end_time": "2021-06-01T15:53:05.194802Z",
     "start_time": "2021-06-01T15:53:01.968741Z"
    }
   },
   "outputs": [
    {
     "name": "stdout",
     "output_type": "stream",
     "text": [
      "Model Training Started\n",
      "Model Training Completed\n",
      "Model Scoring Started\n",
      "Model Scoring Completed\n",
      "Train F1 Score:  0.8511038630155591\n",
      "Validation F1 Score:  0.8424727696848661\n"
     ]
    }
   ],
   "source": [
    "model = linear_model.SGDClassifier(max_iter=1000, tol=1e-3)\n",
    "results = func_model_train('LinearSGD', 'USE', model, xtrain_use, y_train, xvalid_use, y_val, results)"
   ]
  },
  {
   "cell_type": "markdown",
   "metadata": {},
   "source": [
    "### USE + TF-IDF"
   ]
  },
  {
   "cell_type": "code",
   "execution_count": 39,
   "metadata": {
    "ExecuteTime": {
     "end_time": "2021-06-01T15:54:41.152646Z",
     "start_time": "2021-06-01T15:53:12.531862Z"
    }
   },
   "outputs": [
    {
     "name": "stdout",
     "output_type": "stream",
     "text": [
      "Model Training Started\n",
      "Model Training Completed\n",
      "Model Scoring Started\n",
      "Model Scoring Completed\n",
      "Train F1 Score:  0.9118994598669601\n",
      "Validation F1 Score:  0.8826742246572282\n"
     ]
    }
   ],
   "source": [
    "model = linear_model.SGDClassifier(max_iter=1000, tol=1e-3)\n",
    "results = func_model_train('LinearSGD', 'USE + TF-IDF', model, pd.concat([xtrain_use, xtrain_tf_idf], axis = 1), y_train, \n",
    "                           pd.concat([xvalid_use, xvalid_tf_idf], axis = 1), y_val, results)"
   ]
  },
  {
   "cell_type": "markdown",
   "metadata": {},
   "source": [
    "### USE + Count Vectorizer"
   ]
  },
  {
   "cell_type": "code",
   "execution_count": 40,
   "metadata": {
    "ExecuteTime": {
     "end_time": "2021-06-01T15:55:47.588596Z",
     "start_time": "2021-06-01T15:54:47.772549Z"
    }
   },
   "outputs": [
    {
     "name": "stdout",
     "output_type": "stream",
     "text": [
      "Model Training Started\n",
      "Model Training Completed\n",
      "Model Scoring Started\n",
      "Model Scoring Completed\n",
      "Train F1 Score:  0.949743147346766\n",
      "Validation F1 Score:  0.9030432608028438\n"
     ]
    }
   ],
   "source": [
    "model = linear_model.SGDClassifier(max_iter=1000, tol=1e-3)\n",
    "results = func_model_train('LinearSGD', 'USE + Count', model, pd.concat([xtrain_use, xtrain_count], axis = 1), y_train, \n",
    "                           pd.concat([xvalid_use, xvalid_count], axis = 1), y_val, results)"
   ]
  },
  {
   "cell_type": "markdown",
   "metadata": {},
   "source": [
    "## Log Reg"
   ]
  },
  {
   "cell_type": "markdown",
   "metadata": {},
   "source": [
    "### Tf-iDF Vectorizer"
   ]
  },
  {
   "cell_type": "code",
   "execution_count": 126,
   "metadata": {
    "ExecuteTime": {
     "end_time": "2021-06-01T20:23:50.023895Z",
     "start_time": "2021-06-01T20:20:58.771656Z"
    }
   },
   "outputs": [
    {
     "name": "stdout",
     "output_type": "stream",
     "text": [
      "Model Training Started\n"
     ]
    },
    {
     "name": "stderr",
     "output_type": "stream",
     "text": [
      "C:\\Users\\mv15445\\AppData\\Local\\Continuum\\anaconda3\\lib\\site-packages\\sklearn\\linear_model\\_logistic.py:765: ConvergenceWarning: lbfgs failed to converge (status=1):\n",
      "STOP: TOTAL NO. of ITERATIONS REACHED LIMIT.\n",
      "\n",
      "Increase the number of iterations (max_iter) or scale the data as shown in:\n",
      "    https://scikit-learn.org/stable/modules/preprocessing.html\n",
      "Please also refer to the documentation for alternative solver options:\n",
      "    https://scikit-learn.org/stable/modules/linear_model.html#logistic-regression\n",
      "  extra_warning_msg=_LOGISTIC_SOLVER_CONVERGENCE_MSG)\n"
     ]
    },
    {
     "name": "stdout",
     "output_type": "stream",
     "text": [
      "Model Training Completed\n",
      "Model Scoring Started\n",
      "Model Scoring Completed\n",
      "Train F1 Score:  0.9086761912729686\n",
      "Validation F1 Score:  0.8813618413120164\n"
     ]
    }
   ],
   "source": [
    "model = LogisticRegression(random_state=0)\n",
    "results = func_model_train('Log Reg', 'TF-IDF', model, xtrain_tf_idf, y_train, xvalid_tf_idf, y_val, results)"
   ]
  },
  {
   "cell_type": "markdown",
   "metadata": {},
   "source": [
    "### Count Vectorizer"
   ]
  },
  {
   "cell_type": "code",
   "execution_count": 127,
   "metadata": {
    "ExecuteTime": {
     "end_time": "2021-06-01T20:25:52.215123Z",
     "start_time": "2021-06-01T20:23:57.175872Z"
    }
   },
   "outputs": [
    {
     "name": "stdout",
     "output_type": "stream",
     "text": [
      "Model Training Started\n"
     ]
    },
    {
     "name": "stderr",
     "output_type": "stream",
     "text": [
      "C:\\Users\\mv15445\\AppData\\Local\\Continuum\\anaconda3\\lib\\site-packages\\sklearn\\linear_model\\_logistic.py:765: ConvergenceWarning: lbfgs failed to converge (status=1):\n",
      "STOP: TOTAL NO. of ITERATIONS REACHED LIMIT.\n",
      "\n",
      "Increase the number of iterations (max_iter) or scale the data as shown in:\n",
      "    https://scikit-learn.org/stable/modules/preprocessing.html\n",
      "Please also refer to the documentation for alternative solver options:\n",
      "    https://scikit-learn.org/stable/modules/linear_model.html#logistic-regression\n",
      "  extra_warning_msg=_LOGISTIC_SOLVER_CONVERGENCE_MSG)\n"
     ]
    },
    {
     "name": "stdout",
     "output_type": "stream",
     "text": [
      "Model Training Completed\n",
      "Model Scoring Started\n",
      "Model Scoring Completed\n",
      "Train F1 Score:  0.9575454294805997\n",
      "Validation F1 Score:  0.8980209549407122\n"
     ]
    }
   ],
   "source": [
    "model = LogisticRegression(random_state=0)\n",
    "results = func_model_train('Log Reg', 'Count Vectorizer', model, xtrain_count, y_train, xvalid_count, y_val, results)"
   ]
  },
  {
   "cell_type": "markdown",
   "metadata": {},
   "source": [
    "### Universal Sentence Encoder"
   ]
  },
  {
   "cell_type": "code",
   "execution_count": 128,
   "metadata": {
    "ExecuteTime": {
     "end_time": "2021-06-01T20:26:11.484357Z",
     "start_time": "2021-06-01T20:25:59.117797Z"
    }
   },
   "outputs": [
    {
     "name": "stdout",
     "output_type": "stream",
     "text": [
      "Model Training Started\n"
     ]
    },
    {
     "name": "stderr",
     "output_type": "stream",
     "text": [
      "C:\\Users\\mv15445\\AppData\\Local\\Continuum\\anaconda3\\lib\\site-packages\\sklearn\\linear_model\\_logistic.py:765: ConvergenceWarning: lbfgs failed to converge (status=1):\n",
      "STOP: TOTAL NO. of ITERATIONS REACHED LIMIT.\n",
      "\n",
      "Increase the number of iterations (max_iter) or scale the data as shown in:\n",
      "    https://scikit-learn.org/stable/modules/preprocessing.html\n",
      "Please also refer to the documentation for alternative solver options:\n",
      "    https://scikit-learn.org/stable/modules/linear_model.html#logistic-regression\n",
      "  extra_warning_msg=_LOGISTIC_SOLVER_CONVERGENCE_MSG)\n"
     ]
    },
    {
     "name": "stdout",
     "output_type": "stream",
     "text": [
      "Model Training Completed\n",
      "Model Scoring Started\n",
      "Model Scoring Completed\n",
      "Train F1 Score:  0.859904134252248\n",
      "Validation F1 Score:  0.8476464182720699\n"
     ]
    }
   ],
   "source": [
    "model = LogisticRegression(random_state=0)\n",
    "results = func_model_train('Log Reg', 'USE', model, xtrain_use, y_train, xvalid_use, y_val, results)"
   ]
  },
  {
   "cell_type": "markdown",
   "metadata": {},
   "source": [
    "### USE + TF-IDF"
   ]
  },
  {
   "cell_type": "code",
   "execution_count": 129,
   "metadata": {
    "ExecuteTime": {
     "end_time": "2021-06-01T20:33:58.619449Z",
     "start_time": "2021-06-01T20:26:18.325427Z"
    },
    "scrolled": true
   },
   "outputs": [
    {
     "name": "stdout",
     "output_type": "stream",
     "text": [
      "Model Training Started\n"
     ]
    },
    {
     "name": "stderr",
     "output_type": "stream",
     "text": [
      "C:\\Users\\mv15445\\AppData\\Local\\Continuum\\anaconda3\\lib\\site-packages\\sklearn\\linear_model\\_logistic.py:765: ConvergenceWarning: lbfgs failed to converge (status=1):\n",
      "STOP: TOTAL NO. of ITERATIONS REACHED LIMIT.\n",
      "\n",
      "Increase the number of iterations (max_iter) or scale the data as shown in:\n",
      "    https://scikit-learn.org/stable/modules/preprocessing.html\n",
      "Please also refer to the documentation for alternative solver options:\n",
      "    https://scikit-learn.org/stable/modules/linear_model.html#logistic-regression\n",
      "  extra_warning_msg=_LOGISTIC_SOLVER_CONVERGENCE_MSG)\n"
     ]
    },
    {
     "name": "stdout",
     "output_type": "stream",
     "text": [
      "Model Training Completed\n",
      "Model Scoring Started\n",
      "Model Scoring Completed\n",
      "Train F1 Score:  0.9406342025644168\n",
      "Validation F1 Score:  0.8985854003420187\n"
     ]
    }
   ],
   "source": [
    "model = LogisticRegression(random_state=0, max_iter = 300)\n",
    "results = func_model_train('Log Reg', 'USE + TF-IDF', model, pd.concat([xtrain_use, xtrain_tf_idf], axis = 1), y_train, \n",
    "                           pd.concat([xvalid_use, xvalid_tf_idf], axis = 1), y_val, results)"
   ]
  },
  {
   "cell_type": "markdown",
   "metadata": {},
   "source": [
    "### USE + Count Vectorizer"
   ]
  },
  {
   "cell_type": "code",
   "execution_count": 130,
   "metadata": {
    "ExecuteTime": {
     "end_time": "2021-06-01T20:39:15.352137Z",
     "start_time": "2021-06-01T20:34:05.701312Z"
    }
   },
   "outputs": [
    {
     "name": "stdout",
     "output_type": "stream",
     "text": [
      "Model Training Started\n"
     ]
    },
    {
     "name": "stderr",
     "output_type": "stream",
     "text": [
      "C:\\Users\\mv15445\\AppData\\Local\\Continuum\\anaconda3\\lib\\site-packages\\sklearn\\linear_model\\_logistic.py:765: ConvergenceWarning: lbfgs failed to converge (status=1):\n",
      "STOP: TOTAL NO. of ITERATIONS REACHED LIMIT.\n",
      "\n",
      "Increase the number of iterations (max_iter) or scale the data as shown in:\n",
      "    https://scikit-learn.org/stable/modules/preprocessing.html\n",
      "Please also refer to the documentation for alternative solver options:\n",
      "    https://scikit-learn.org/stable/modules/linear_model.html#logistic-regression\n",
      "  extra_warning_msg=_LOGISTIC_SOLVER_CONVERGENCE_MSG)\n"
     ]
    },
    {
     "name": "stdout",
     "output_type": "stream",
     "text": [
      "Model Training Completed\n",
      "Model Scoring Started\n",
      "Model Scoring Completed\n",
      "Train F1 Score:  0.9731991874923045\n",
      "Validation F1 Score:  0.9114207550913065\n"
     ]
    }
   ],
   "source": [
    "model = LogisticRegression(random_state=0, max_iter = 300)\n",
    "results = func_model_train('Log Reg', 'USE + Count', model, pd.concat([xtrain_use, xtrain_count], axis = 1), y_train, \n",
    "                           pd.concat([xvalid_use, xvalid_count], axis = 1), y_val, results)"
   ]
  },
  {
   "cell_type": "markdown",
   "metadata": {},
   "source": [
    "# Results"
   ]
  },
  {
   "cell_type": "markdown",
   "metadata": {},
   "source": [
    "## Performance Comparison"
   ]
  },
  {
   "cell_type": "markdown",
   "metadata": {},
   "source": [
    "###### Best Performance: Model - Logistic Regression + Featurization Used: Universal Sentence Encoders & CountVectorizer"
   ]
  },
  {
   "cell_type": "code",
   "execution_count": 165,
   "metadata": {
    "ExecuteTime": {
     "end_time": "2021-06-01T21:13:16.262626Z",
     "start_time": "2021-06-01T21:13:16.250659Z"
    }
   },
   "outputs": [
    {
     "data": {
      "text/html": [
       "<div>\n",
       "<style scoped>\n",
       "    .dataframe tbody tr th:only-of-type {\n",
       "        vertical-align: middle;\n",
       "    }\n",
       "\n",
       "    .dataframe tbody tr th {\n",
       "        vertical-align: top;\n",
       "    }\n",
       "\n",
       "    .dataframe thead th {\n",
       "        text-align: right;\n",
       "    }\n",
       "</style>\n",
       "<table border=\"1\" class=\"dataframe\">\n",
       "  <thead>\n",
       "    <tr style=\"text-align: right;\">\n",
       "      <th></th>\n",
       "      <th>Model</th>\n",
       "      <th>Type</th>\n",
       "      <th>Train F1 Score</th>\n",
       "      <th>Validation F1 Score</th>\n",
       "    </tr>\n",
       "  </thead>\n",
       "  <tbody>\n",
       "    <tr>\n",
       "      <th>0</th>\n",
       "      <td>LightGBM</td>\n",
       "      <td>TF-IDF</td>\n",
       "      <td>0.960747</td>\n",
       "      <td>0.877046</td>\n",
       "    </tr>\n",
       "    <tr>\n",
       "      <th>1</th>\n",
       "      <td>LightGBM</td>\n",
       "      <td>Count Vectorizer</td>\n",
       "      <td>0.938220</td>\n",
       "      <td>0.876505</td>\n",
       "    </tr>\n",
       "    <tr>\n",
       "      <th>2</th>\n",
       "      <td>LightGBM</td>\n",
       "      <td>USE</td>\n",
       "      <td>0.999896</td>\n",
       "      <td>0.853067</td>\n",
       "    </tr>\n",
       "    <tr>\n",
       "      <th>3</th>\n",
       "      <td>LightGBM</td>\n",
       "      <td>USE + TF-IDF</td>\n",
       "      <td>0.999959</td>\n",
       "      <td>0.872876</td>\n",
       "    </tr>\n",
       "    <tr>\n",
       "      <th>4</th>\n",
       "      <td>LightGBM</td>\n",
       "      <td>USE + Count</td>\n",
       "      <td>0.999979</td>\n",
       "      <td>0.872497</td>\n",
       "    </tr>\n",
       "    <tr>\n",
       "      <th>5</th>\n",
       "      <td>LinearSVC</td>\n",
       "      <td>TF-IDF</td>\n",
       "      <td>0.968216</td>\n",
       "      <td>0.897015</td>\n",
       "    </tr>\n",
       "    <tr>\n",
       "      <th>6</th>\n",
       "      <td>LinearSVC</td>\n",
       "      <td>Count Vectorizer</td>\n",
       "      <td>0.973843</td>\n",
       "      <td>0.893857</td>\n",
       "    </tr>\n",
       "    <tr>\n",
       "      <th>7</th>\n",
       "      <td>LinearSVC</td>\n",
       "      <td>USE</td>\n",
       "      <td>0.862965</td>\n",
       "      <td>0.848234</td>\n",
       "    </tr>\n",
       "    <tr>\n",
       "      <th>8</th>\n",
       "      <td>LinearSVC</td>\n",
       "      <td>USE + TF-IDF</td>\n",
       "      <td>0.979205</td>\n",
       "      <td>0.908476</td>\n",
       "    </tr>\n",
       "    <tr>\n",
       "      <th>9</th>\n",
       "      <td>LinearSVC</td>\n",
       "      <td>USE + Count</td>\n",
       "      <td>0.985346</td>\n",
       "      <td>0.903004</td>\n",
       "    </tr>\n",
       "    <tr>\n",
       "      <th>10</th>\n",
       "      <td>LinearSGD</td>\n",
       "      <td>TF-IDF</td>\n",
       "      <td>0.895026</td>\n",
       "      <td>0.869892</td>\n",
       "    </tr>\n",
       "    <tr>\n",
       "      <th>11</th>\n",
       "      <td>LinearSGD</td>\n",
       "      <td>Count Vectorizer</td>\n",
       "      <td>0.934634</td>\n",
       "      <td>0.890776</td>\n",
       "    </tr>\n",
       "    <tr>\n",
       "      <th>12</th>\n",
       "      <td>LinearSGD</td>\n",
       "      <td>USE</td>\n",
       "      <td>0.851104</td>\n",
       "      <td>0.842473</td>\n",
       "    </tr>\n",
       "    <tr>\n",
       "      <th>13</th>\n",
       "      <td>LinearSGD</td>\n",
       "      <td>USE + TF-IDF</td>\n",
       "      <td>0.911899</td>\n",
       "      <td>0.882674</td>\n",
       "    </tr>\n",
       "    <tr>\n",
       "      <th>14</th>\n",
       "      <td>LinearSGD</td>\n",
       "      <td>USE + Count</td>\n",
       "      <td>0.949743</td>\n",
       "      <td>0.903043</td>\n",
       "    </tr>\n",
       "    <tr>\n",
       "      <th>15</th>\n",
       "      <td>Log Reg</td>\n",
       "      <td>TF-IDF</td>\n",
       "      <td>0.908676</td>\n",
       "      <td>0.881362</td>\n",
       "    </tr>\n",
       "    <tr>\n",
       "      <th>16</th>\n",
       "      <td>Log Reg</td>\n",
       "      <td>Count Vectorizer</td>\n",
       "      <td>0.957545</td>\n",
       "      <td>0.898021</td>\n",
       "    </tr>\n",
       "    <tr>\n",
       "      <th>17</th>\n",
       "      <td>Log Reg</td>\n",
       "      <td>USE</td>\n",
       "      <td>0.859904</td>\n",
       "      <td>0.847646</td>\n",
       "    </tr>\n",
       "    <tr>\n",
       "      <th>18</th>\n",
       "      <td>Log Reg</td>\n",
       "      <td>USE + TF-IDF</td>\n",
       "      <td>0.940634</td>\n",
       "      <td>0.898585</td>\n",
       "    </tr>\n",
       "    <tr>\n",
       "      <th>19</th>\n",
       "      <td>Log Reg</td>\n",
       "      <td>USE + Count</td>\n",
       "      <td>0.973199</td>\n",
       "      <td>0.911421</td>\n",
       "    </tr>\n",
       "  </tbody>\n",
       "</table>\n",
       "</div>"
      ],
      "text/plain": [
       "        Model              Type  Train F1 Score  Validation F1 Score\n",
       "0    LightGBM            TF-IDF        0.960747             0.877046\n",
       "1    LightGBM  Count Vectorizer        0.938220             0.876505\n",
       "2    LightGBM               USE        0.999896             0.853067\n",
       "3    LightGBM      USE + TF-IDF        0.999959             0.872876\n",
       "4    LightGBM       USE + Count        0.999979             0.872497\n",
       "5   LinearSVC            TF-IDF        0.968216             0.897015\n",
       "6   LinearSVC  Count Vectorizer        0.973843             0.893857\n",
       "7   LinearSVC               USE        0.862965             0.848234\n",
       "8   LinearSVC      USE + TF-IDF        0.979205             0.908476\n",
       "9   LinearSVC       USE + Count        0.985346             0.903004\n",
       "10  LinearSGD            TF-IDF        0.895026             0.869892\n",
       "11  LinearSGD  Count Vectorizer        0.934634             0.890776\n",
       "12  LinearSGD               USE        0.851104             0.842473\n",
       "13  LinearSGD      USE + TF-IDF        0.911899             0.882674\n",
       "14  LinearSGD       USE + Count        0.949743             0.903043\n",
       "15    Log Reg            TF-IDF        0.908676             0.881362\n",
       "16    Log Reg  Count Vectorizer        0.957545             0.898021\n",
       "17    Log Reg               USE        0.859904             0.847646\n",
       "18    Log Reg      USE + TF-IDF        0.940634             0.898585\n",
       "19    Log Reg       USE + Count        0.973199             0.911421"
      ]
     },
     "execution_count": 165,
     "metadata": {},
     "output_type": "execute_result"
    }
   ],
   "source": [
    "results"
   ]
  },
  {
   "cell_type": "markdown",
   "metadata": {},
   "source": [
    "## Best Model Execution"
   ]
  },
  {
   "cell_type": "code",
   "execution_count": 82,
   "metadata": {
    "ExecuteTime": {
     "end_time": "2021-06-01T17:56:50.148965Z",
     "start_time": "2021-06-01T17:51:46.643302Z"
    },
    "collapsed": true
   },
   "outputs": [
    {
     "name": "stderr",
     "output_type": "stream",
     "text": [
      "C:\\Users\\mv15445\\AppData\\Local\\Continuum\\anaconda3\\lib\\site-packages\\sklearn\\linear_model\\_logistic.py:765: ConvergenceWarning: lbfgs failed to converge (status=1):\n",
      "STOP: TOTAL NO. of ITERATIONS REACHED LIMIT.\n",
      "\n",
      "Increase the number of iterations (max_iter) or scale the data as shown in:\n",
      "    https://scikit-learn.org/stable/modules/preprocessing.html\n",
      "Please also refer to the documentation for alternative solver options:\n",
      "    https://scikit-learn.org/stable/modules/linear_model.html#logistic-regression\n",
      "  extra_warning_msg=_LOGISTIC_SOLVER_CONVERGENCE_MSG)\n"
     ]
    },
    {
     "data": {
      "text/plain": [
       "LogisticRegression(max_iter=300, random_state=0)"
      ]
     },
     "execution_count": 82,
     "metadata": {},
     "output_type": "execute_result"
    }
   ],
   "source": [
    "model = LogisticRegression(random_state=0, max_iter = 300)\n",
    "model.fit(pd.concat([xtrain_use, xtrain_count], axis = 1), y_train)"
   ]
  },
  {
   "cell_type": "code",
   "execution_count": 131,
   "metadata": {
    "ExecuteTime": {
     "end_time": "2021-06-01T20:39:21.502231Z",
     "start_time": "2021-06-01T20:39:21.490279Z"
    }
   },
   "outputs": [],
   "source": [
    "import pickle\n",
    "Pkl_Filename = \"best_model.pkl\"  \n",
    "\n",
    "with open(Pkl_Filename, 'wb') as file:  \n",
    "    pickle.dump(model, file)"
   ]
  },
  {
   "cell_type": "markdown",
   "metadata": {},
   "source": [
    "## Performance Stats"
   ]
  },
  {
   "cell_type": "markdown",
   "metadata": {},
   "source": [
    "### Weighted F1-Score"
   ]
  },
  {
   "cell_type": "code",
   "execution_count": 83,
   "metadata": {
    "ExecuteTime": {
     "end_time": "2021-06-01T17:58:31.584491Z",
     "start_time": "2021-06-01T17:58:26.375367Z"
    }
   },
   "outputs": [
    {
     "name": "stdout",
     "output_type": "stream",
     "text": [
      "Training Score  0.9731991874923045\n",
      "Validation Score  0.9114207550913065\n"
     ]
    }
   ],
   "source": [
    "y_pred_train = model.predict(pd.concat([xtrain_use, xtrain_count], axis = 1)) \n",
    "print(\"Training Score \", f1_score(y_train, y_pred_train, average='weighted'))\n",
    "\n",
    "y_pred_val = model.predict(pd.concat([xvalid_use, xvalid_count], axis = 1))\n",
    "print(\"Validation Score \", f1_score(y_val, y_pred_val, average='weighted'))"
   ]
  },
  {
   "cell_type": "markdown",
   "metadata": {},
   "source": [
    "### Confusion Matrix"
   ]
  },
  {
   "cell_type": "code",
   "execution_count": 84,
   "metadata": {
    "ExecuteTime": {
     "end_time": "2021-06-01T17:59:15.966668Z",
     "start_time": "2021-06-01T17:59:13.976960Z"
    }
   },
   "outputs": [
    {
     "data": {
      "text/plain": [
       "<sklearn.metrics._plot.confusion_matrix.ConfusionMatrixDisplay at 0x21f9933c7f0>"
      ]
     },
     "execution_count": 84,
     "metadata": {},
     "output_type": "execute_result"
    },
    {
     "data": {
      "image/png": "[encoded data removed]",
      "text/plain": [
       "<Figure size 432x288 with 2 Axes>"
      ]
     },
     "metadata": {
      "needs_background": "light"
     },
     "output_type": "display_data"
    }
   ],
   "source": [
    "plot_confusion_matrix(model, pd.concat([xvalid_use, xvalid_count], axis = 1), y_val)"
   ]
  },
  {
   "cell_type": "markdown",
   "metadata": {},
   "source": [
    "### Classification Report"
   ]
  },
  {
   "cell_type": "code",
   "execution_count": 93,
   "metadata": {
    "ExecuteTime": {
     "end_time": "2021-06-01T19:17:13.930128Z",
     "start_time": "2021-06-01T19:17:13.578057Z"
    }
   },
   "outputs": [
    {
     "name": "stdout",
     "output_type": "stream",
     "text": [
      "                  precision    recall  f1-score   support\n",
      "\n",
      "     achievement       0.91      0.92      0.92      4074\n",
      "       affection       0.95      0.95      0.95      4186\n",
      "         bonding       0.95      0.95      0.95      1310\n",
      "enjoy_the_moment       0.81      0.77      0.79      1293\n",
      "        exercise       0.86      0.90      0.88       143\n",
      "         leisure       0.84      0.82      0.83       832\n",
      "          nature       0.84      0.87      0.85       227\n",
      "\n",
      "        accuracy                           0.91     12065\n",
      "       macro avg       0.88      0.88      0.88     12065\n",
      "    weighted avg       0.91      0.91      0.91     12065\n",
      "\n"
     ]
    }
   ],
   "source": [
    "print(classification_report(y_val, y_pred_val))"
   ]
  },
  {
   "cell_type": "markdown",
   "metadata": {},
   "source": [
    "### Top Features"
   ]
  },
  {
   "cell_type": "code",
   "execution_count": 133,
   "metadata": {
    "ExecuteTime": {
     "end_time": "2021-06-01T20:41:31.019542Z",
     "start_time": "2021-06-01T20:41:31.015545Z"
    }
   },
   "outputs": [],
   "source": [
    "coef = pd.DataFrame(model.coef_)"
   ]
  },
  {
   "cell_type": "code",
   "execution_count": 144,
   "metadata": {
    "ExecuteTime": {
     "end_time": "2021-06-01T20:46:02.639952Z",
     "start_time": "2021-06-01T20:46:02.629979Z"
    }
   },
   "outputs": [],
   "source": [
    "coef.columns = xtrain_use.columns.tolist() + count_vect.get_feature_names() + ['reflection_period_updt', 'num_sentence']"
   ]
  },
  {
   "cell_type": "code",
   "execution_count": 148,
   "metadata": {
    "ExecuteTime": {
     "end_time": "2021-06-01T20:48:20.583513Z",
     "start_time": "2021-06-01T20:48:20.575502Z"
    }
   },
   "outputs": [],
   "source": [
    "coef['label'] = model.classes_"
   ]
  },
  {
   "cell_type": "code",
   "execution_count": 151,
   "metadata": {
    "ExecuteTime": {
     "end_time": "2021-06-01T20:50:51.645139Z",
     "start_time": "2021-06-01T20:50:51.628185Z"
    }
   },
   "outputs": [],
   "source": [
    "coef_melt = pd.melt(coef, id_vars =['label'], var_name='feature', value_name='coef_value')"
   ]
  },
  {
   "cell_type": "code",
   "execution_count": 153,
   "metadata": {
    "ExecuteTime": {
     "end_time": "2021-06-01T20:51:31.610999Z",
     "start_time": "2021-06-01T20:51:31.595032Z"
    }
   },
   "outputs": [],
   "source": [
    "coef_melt.sort_values(by= 'coef_value', ascending = False, inplace = True)"
   ]
  },
  {
   "cell_type": "markdown",
   "metadata": {},
   "source": [
    "###### Top Feature for each class are idenitfied to validate the results based on the coefficient values. Example: Top 5 Features for:   \n",
    "- Affection: are Wife, Husband, Family, Daughter & Boyfriend\n",
    "- Achievement: are Won, Exam, Encoder Feature (USE), Company & Job"
   ]
  },
  {
   "cell_type": "code",
   "execution_count": 166,
   "metadata": {
    "ExecuteTime": {
     "end_time": "2021-06-01T21:13:37.318778Z",
     "start_time": "2021-06-01T21:13:37.168179Z"
    }
   },
   "outputs": [
    {
     "data": {
      "text/plain": [
       "<matplotlib.axes._subplots.AxesSubplot at 0x21f9c793f60>"
      ]
     },
     "execution_count": 166,
     "metadata": {},
     "output_type": "execute_result"
    },
    {
     "data": {
      "image/png": "[encoded data removed]",
      "text/plain": [
       "<Figure size 432x288 with 1 Axes>"
      ]
     },
     "metadata": {
      "needs_background": "light"
     },
     "output_type": "display_data"
    }
   ],
   "source": [
    "sn.barplot(x=\"feature\",y=\"coef_value\",data=coef_melt[coef_melt['label'] == 'affection'].head(5))"
   ]
  },
  {
   "cell_type": "code",
   "execution_count": 158,
   "metadata": {
    "ExecuteTime": {
     "end_time": "2021-06-01T20:53:03.475112Z",
     "start_time": "2021-06-01T20:53:03.456157Z"
    }
   },
   "outputs": [
    {
     "data": {
      "text/html": [
       "<div>\n",
       "<style scoped>\n",
       "    .dataframe tbody tr th:only-of-type {\n",
       "        vertical-align: middle;\n",
       "    }\n",
       "\n",
       "    .dataframe tbody tr th {\n",
       "        vertical-align: top;\n",
       "    }\n",
       "\n",
       "    .dataframe thead th {\n",
       "        text-align: right;\n",
       "    }\n",
       "</style>\n",
       "<table border=\"1\" class=\"dataframe\">\n",
       "  <thead>\n",
       "    <tr style=\"text-align: right;\">\n",
       "      <th></th>\n",
       "      <th>label</th>\n",
       "      <th>feature</th>\n",
       "      <th>coef_value</th>\n",
       "    </tr>\n",
       "  </thead>\n",
       "  <tbody>\n",
       "    <tr>\n",
       "      <th>49190</th>\n",
       "      <td>affection</td>\n",
       "      <td>wife</td>\n",
       "      <td>4.739987</td>\n",
       "    </tr>\n",
       "    <tr>\n",
       "      <th>24501</th>\n",
       "      <td>affection</td>\n",
       "      <td>husband</td>\n",
       "      <td>4.551634</td>\n",
       "    </tr>\n",
       "    <tr>\n",
       "      <th>19405</th>\n",
       "      <td>affection</td>\n",
       "      <td>family</td>\n",
       "      <td>4.096631</td>\n",
       "    </tr>\n",
       "    <tr>\n",
       "      <th>14995</th>\n",
       "      <td>affection</td>\n",
       "      <td>daughter</td>\n",
       "      <td>3.870174</td>\n",
       "    </tr>\n",
       "    <tr>\n",
       "      <th>9241</th>\n",
       "      <td>affection</td>\n",
       "      <td>boyfriend</td>\n",
       "      <td>3.705570</td>\n",
       "    </tr>\n",
       "    <tr>\n",
       "      <th>3249</th>\n",
       "      <td>affection</td>\n",
       "      <td>USE_col_465</td>\n",
       "      <td>3.636583</td>\n",
       "    </tr>\n",
       "    <tr>\n",
       "      <th>9619</th>\n",
       "      <td>affection</td>\n",
       "      <td>brother</td>\n",
       "      <td>3.570001</td>\n",
       "    </tr>\n",
       "    <tr>\n",
       "      <th>42085</th>\n",
       "      <td>affection</td>\n",
       "      <td>son</td>\n",
       "      <td>3.492087</td>\n",
       "    </tr>\n",
       "    <tr>\n",
       "      <th>21806</th>\n",
       "      <td>affection</td>\n",
       "      <td>girlfriend</td>\n",
       "      <td>3.490138</td>\n",
       "    </tr>\n",
       "    <tr>\n",
       "      <th>30360</th>\n",
       "      <td>affection</td>\n",
       "      <td>mom</td>\n",
       "      <td>3.201862</td>\n",
       "    </tr>\n",
       "  </tbody>\n",
       "</table>\n",
       "</div>"
      ],
      "text/plain": [
       "           label      feature  coef_value\n",
       "49190  affection         wife    4.739987\n",
       "24501  affection      husband    4.551634\n",
       "19405  affection       family    4.096631\n",
       "14995  affection     daughter    3.870174\n",
       "9241   affection    boyfriend    3.705570\n",
       "3249   affection  USE_col_465    3.636583\n",
       "9619   affection      brother    3.570001\n",
       "42085  affection          son    3.492087\n",
       "21806  affection   girlfriend    3.490138\n",
       "30360  affection          mom    3.201862"
      ]
     },
     "execution_count": 158,
     "metadata": {},
     "output_type": "execute_result"
    }
   ],
   "source": [
    "coef_melt[coef_melt['label'] == 'affection'].head(10)"
   ]
  },
  {
   "cell_type": "code",
   "execution_count": 167,
   "metadata": {
    "ExecuteTime": {
     "end_time": "2021-06-01T21:13:56.831696Z",
     "start_time": "2021-06-01T21:13:56.688767Z"
    }
   },
   "outputs": [
    {
     "data": {
      "text/plain": [
       "<matplotlib.axes._subplots.AxesSubplot at 0x21f9d295320>"
      ]
     },
     "execution_count": 167,
     "metadata": {},
     "output_type": "execute_result"
    },
    {
     "data": {
      "image/png": "[encoded data removed]",
      "text/plain": [
       "<Figure size 432x288 with 1 Axes>"
      ]
     },
     "metadata": {
      "needs_background": "light"
     },
     "output_type": "display_data"
    }
   ],
   "source": [
    "sn.barplot(x=\"feature\",y=\"coef_value\",data=coef_melt[coef_melt['label'] == 'achievement'].head(5))"
   ]
  },
  {
   "cell_type": "code",
   "execution_count": 160,
   "metadata": {
    "ExecuteTime": {
     "end_time": "2021-06-01T20:53:30.341844Z",
     "start_time": "2021-06-01T20:53:30.328855Z"
    }
   },
   "outputs": [
    {
     "data": {
      "text/html": [
       "<div>\n",
       "<style scoped>\n",
       "    .dataframe tbody tr th:only-of-type {\n",
       "        vertical-align: middle;\n",
       "    }\n",
       "\n",
       "    .dataframe tbody tr th {\n",
       "        vertical-align: top;\n",
       "    }\n",
       "\n",
       "    .dataframe thead th {\n",
       "        text-align: right;\n",
       "    }\n",
       "</style>\n",
       "<table border=\"1\" class=\"dataframe\">\n",
       "  <thead>\n",
       "    <tr style=\"text-align: right;\">\n",
       "      <th></th>\n",
       "      <th>label</th>\n",
       "      <th>feature</th>\n",
       "      <th>coef_value</th>\n",
       "    </tr>\n",
       "  </thead>\n",
       "  <tbody>\n",
       "    <tr>\n",
       "      <th>49462</th>\n",
       "      <td>achievement</td>\n",
       "      <td>won</td>\n",
       "      <td>2.312329</td>\n",
       "    </tr>\n",
       "    <tr>\n",
       "      <th>18641</th>\n",
       "      <td>achievement</td>\n",
       "      <td>exam</td>\n",
       "      <td>2.141681</td>\n",
       "    </tr>\n",
       "    <tr>\n",
       "      <th>434</th>\n",
       "      <td>achievement</td>\n",
       "      <td>USE_col_63</td>\n",
       "      <td>2.134023</td>\n",
       "    </tr>\n",
       "    <tr>\n",
       "      <th>12859</th>\n",
       "      <td>achievement</td>\n",
       "      <td>company</td>\n",
       "      <td>2.105872</td>\n",
       "    </tr>\n",
       "    <tr>\n",
       "      <th>26194</th>\n",
       "      <td>achievement</td>\n",
       "      <td>job</td>\n",
       "      <td>2.094958</td>\n",
       "    </tr>\n",
       "    <tr>\n",
       "      <th>27258</th>\n",
       "      <td>achievement</td>\n",
       "      <td>laws</td>\n",
       "      <td>2.059403</td>\n",
       "    </tr>\n",
       "    <tr>\n",
       "      <th>13055</th>\n",
       "      <td>achievement</td>\n",
       "      <td>computer</td>\n",
       "      <td>2.044663</td>\n",
       "    </tr>\n",
       "    <tr>\n",
       "      <th>12026</th>\n",
       "      <td>achievement</td>\n",
       "      <td>cleaned</td>\n",
       "      <td>1.963245</td>\n",
       "    </tr>\n",
       "    <tr>\n",
       "      <th>1967</th>\n",
       "      <td>achievement</td>\n",
       "      <td>USE_col_282</td>\n",
       "      <td>1.930794</td>\n",
       "    </tr>\n",
       "    <tr>\n",
       "      <th>47425</th>\n",
       "      <td>achievement</td>\n",
       "      <td>university</td>\n",
       "      <td>1.807057</td>\n",
       "    </tr>\n",
       "  </tbody>\n",
       "</table>\n",
       "</div>"
      ],
      "text/plain": [
       "             label      feature  coef_value\n",
       "49462  achievement          won    2.312329\n",
       "18641  achievement         exam    2.141681\n",
       "434    achievement   USE_col_63    2.134023\n",
       "12859  achievement      company    2.105872\n",
       "26194  achievement          job    2.094958\n",
       "27258  achievement         laws    2.059403\n",
       "13055  achievement     computer    2.044663\n",
       "12026  achievement      cleaned    1.963245\n",
       "1967   achievement  USE_col_282    1.930794\n",
       "47425  achievement   university    1.807057"
      ]
     },
     "execution_count": 160,
     "metadata": {},
     "output_type": "execute_result"
    }
   ],
   "source": [
    "coef_melt[coef_melt['label'] == 'achievement'].head(10)"
   ]
  },
  {
   "cell_type": "markdown",
   "metadata": {},
   "source": [
    "## Submission File"
   ]
  },
  {
   "cell_type": "code",
   "execution_count": 168,
   "metadata": {
    "ExecuteTime": {
     "end_time": "2021-06-01T21:14:08.431807Z",
     "start_time": "2021-06-01T21:14:08.428808Z"
    }
   },
   "outputs": [],
   "source": [
    "submission_file = pd.DataFrame()"
   ]
  },
  {
   "cell_type": "code",
   "execution_count": 171,
   "metadata": {
    "ExecuteTime": {
     "end_time": "2021-06-01T21:14:54.978397Z",
     "start_time": "2021-06-01T21:14:54.973437Z"
    }
   },
   "outputs": [],
   "source": [
    "submission_file['hmid'] = data_test['hmid']\n",
    "submission_file['predicted_category'] = y_pred_test"
   ]
  },
  {
   "cell_type": "code",
   "execution_count": 172,
   "metadata": {
    "ExecuteTime": {
     "end_time": "2021-06-01T21:15:02.869253Z",
     "start_time": "2021-06-01T21:15:02.801434Z"
    }
   },
   "outputs": [],
   "source": [
    "submission_file.to_csv('submission_file.csv', index = False)"
   ]
  }
 ],
 "metadata": {
  "kernelspec": {
   "display_name": "Python 3",
   "language": "python",
   "name": "python3"
  },
  "language_info": {
   "codemirror_mode": {
    "name": "ipython",
    "version": 3
   },
   "file_extension": ".py",
   "mimetype": "text/x-python",
   "name": "python",
   "nbconvert_exporter": "python",
   "pygments_lexer": "ipython3",
   "version": "3.7.3"
  },
  "latex_envs": {
   "LaTeX_envs_menu_present": true,
   "autoclose": false,
   "autocomplete": true,
   "bibliofile": "biblio.bib",
   "cite_by": "apalike",
   "current_citInitial": 1,
   "eqLabelWithNumbers": true,
   "eqNumInitial": 1,
   "hotkeys": {
    "equation": "Ctrl-E",
    "itemize": "Ctrl-I"
   },
   "labels_anchors": false,
   "latex_user_defs": false,
   "report_style_numbering": false,
   "user_envs_cfg": false
  },
  "toc": {
   "base_numbering": 1,
   "nav_menu": {},
   "number_sections": true,
   "sideBar": true,
   "skip_h1_title": false,
   "title_cell": "Table of Contents",
   "title_sidebar": "Contents",
   "toc_cell": false,
   "toc_position": {
    "height": "calc(100% - 180px)",
    "left": "10px",
    "top": "150px",
    "width": "385.208px"
   },
   "toc_section_display": true,
   "toc_window_display": true
  },
  "varInspector": {
   "cols": {
    "lenName": 16,
    "lenType": 16,
    "lenVar": 40
   },
   "kernels_config": {
    "python": {
     "delete_cmd_postfix": "",
     "delete_cmd_prefix": "del ",
     "library": "var_list.py",
     "varRefreshCmd": "print(var_dic_list())"
    },
    "r": {
     "delete_cmd_postfix": ") ",
     "delete_cmd_prefix": "rm(",
     "library": "var_list.r",
     "varRefreshCmd": "cat(var_dic_list()) "
    }
   },
   "types_to_exclude": [
    "module",
    "function",
    "builtin_function_or_method",
    "instance",
    "_Feature"
   ],
   "window_display": false
  }
 },
 "nbformat": 4,
 "nbformat_minor": 2
}
